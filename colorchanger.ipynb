{
 "cells": [
  {
   "cell_type": "code",
   "execution_count": 3,
   "id": "333dc46c",
   "metadata": {},
   "outputs": [],
   "source": [
    "import cv2"
   ]
  },
  {
   "cell_type": "markdown",
   "id": "1b34241f",
   "metadata": {},
   "source": [
    "# Step 1: Load the input image"
   ]
  },
  {
   "cell_type": "code",
   "execution_count": 6,
   "id": "38f81d58",
   "metadata": {},
   "outputs": [],
   "source": [
    "image = cv2.imread(\"miles-morales-4k-2019-uw.jpg\")  "
   ]
  },
  {
   "cell_type": "markdown",
   "id": "75110dc0",
   "metadata": {},
   "source": [
    "# Step 2: Convert the image to grayscale"
   ]
  },
  {
   "cell_type": "code",
   "execution_count": 7,
   "id": "c9d90478",
   "metadata": {},
   "outputs": [],
   "source": [
    "gray_image = cv2.cvtColor(image, cv2.COLOR_BGR2GRAY)"
   ]
  },
  {
   "cell_type": "markdown",
   "id": "c9b21078",
   "metadata": {},
   "source": [
    "# Step 3: Save the grayscale image"
   ]
  },
  {
   "cell_type": "code",
   "execution_count": 8,
   "id": "642883a3",
   "metadata": {},
   "outputs": [
    {
     "name": "stdout",
     "output_type": "stream",
     "text": [
      "✅ Image successfully converted to grayscale.\n"
     ]
    }
   ],
   "source": [
    "cv2.imwrite(\"output_gray.jpg\", gray_image)\n",
    "\n",
    "print(\"✅ Image successfully converted to grayscale.\")"
   ]
  }
 ],
 "metadata": {
  "kernelspec": {
   "display_name": ".venv",
   "language": "python",
   "name": "python3"
  },
  "language_info": {
   "codemirror_mode": {
    "name": "ipython",
    "version": 3
   },
   "file_extension": ".py",
   "mimetype": "text/x-python",
   "name": "python",
   "nbconvert_exporter": "python",
   "pygments_lexer": "ipython3",
   "version": "3.9.6"
  }
 },
 "nbformat": 4,
 "nbformat_minor": 5
}
